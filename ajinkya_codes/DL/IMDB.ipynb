{
 "cells": [
  {
   "cell_type": "code",
   "execution_count": 2,
   "id": "58e8a217-2862-475f-9385-3453cf5f32c0",
   "metadata": {},
   "outputs": [],
   "source": [
    "# Step 1: Import Libraries\n",
    "import pandas as pd\n",
    "import numpy as np\n",
    "import re\n",
    "import matplotlib.pyplot as plt\n",
    "from sklearn.model_selection import train_test_split\n",
    "from sklearn.feature_extraction.text import TfidfVectorizer\n",
    "from sklearn.metrics import accuracy_score\n"
   ]
  },
  {
   "cell_type": "code",
   "execution_count": 4,
   "id": "321eaef6-5055-4296-b365-9a115c9c1f18",
   "metadata": {},
   "outputs": [],
   "source": [
    "# Step 2: Load Dataset\n",
    "df = pd.read_csv(\"IMDB Dataset.csv\")\n",
    "df['sentiment'] = df['sentiment'].map({'positive': 1, 'negative': 0})\n"
   ]
  },
  {
   "cell_type": "code",
   "execution_count": 6,
   "id": "25d0b52e-5616-4a3f-921c-568b94dceae5",
   "metadata": {},
   "outputs": [],
   "source": [
    "# Step 3: Text Preprocessing (basic)\n",
    "def clean_text(text):\n",
    "    text = text.lower()\n",
    "    text = re.sub(r\"<.*?>\", \"\", text)       # remove HTML tags\n",
    "    text = re.sub(r\"[^a-z\\s]\", \"\", text)    # keep only letters\n",
    "    return text\n",
    "\n",
    "df['review'] = df['review'].apply(clean_text)\n"
   ]
  },
  {
   "cell_type": "code",
   "execution_count": 8,
   "id": "82f0db49-688d-4fc7-afad-210f8830cb3f",
   "metadata": {},
   "outputs": [],
   "source": [
    "# Step 4: Split Data\n",
    "X_train, X_test, y_train, y_test = train_test_split(\n",
    "    df['review'], df['sentiment'], test_size=0.2, random_state=42)\n",
    "\n",
    "# Step 5: Vectorize using TF-IDF\n",
    "vectorizer = TfidfVectorizer(max_features=1000)\n",
    "X_train_vec = vectorizer.fit_transform(X_train).toarray()\n",
    "X_test_vec = vectorizer.transform(X_test).toarray()"
   ]
  },
  {
   "cell_type": "code",
   "execution_count": 10,
   "id": "93cfaaff-e54b-4618-9813-605a5ca1415b",
   "metadata": {},
   "outputs": [],
   "source": [
    "# Step 6: Define Neural Network Class (1 hidden layer)\n",
    "class SimpleNN:\n",
    "    def __init__(self, input_size, hidden_size, output_size):\n",
    "        # Xavier initialization\n",
    "        self.W1 = np.random.randn(input_size, hidden_size) * np.sqrt(1 / input_size)\n",
    "        self.b1 = np.zeros((1, hidden_size))\n",
    "        self.W2 = np.random.randn(hidden_size, output_size) * np.sqrt(1 / hidden_size)\n",
    "        self.b2 = np.zeros((1, output_size))\n",
    "\n",
    "    def sigmoid(self, z):\n",
    "        return 1 / (1 + np.exp(-z))\n",
    "\n",
    "    def sigmoid_derivative(self, a):\n",
    "        return a * (1 - a)\n",
    "\n",
    "    def relu(self, z):\n",
    "        return np.maximum(0, z)\n",
    "\n",
    "    def relu_derivative(self, z):\n",
    "        return (z > 0).astype(float)\n",
    "\n",
    "    def forward(self, X):\n",
    "        self.Z1 = X @ self.W1 + self.b1\n",
    "        self.A1 = self.relu(self.Z1)\n",
    "        self.Z2 = self.A1 @ self.W2 + self.b2\n",
    "        self.A2 = self.sigmoid(self.Z2)\n",
    "        return self.A2\n",
    "\n",
    "    def compute_loss(self, y_true, y_pred):\n",
    "        epsilon = 1e-10\n",
    "        return -np.mean(y_true * np.log(y_pred + epsilon) + (1 - y_true) * np.log(1 - y_pred + epsilon))\n",
    "\n",
    "    def backward(self, X, y_true, y_pred, lr=0.01):\n",
    "        m = X.shape[0]\n",
    "        dZ2 = y_pred - y_true\n",
    "        dW2 = self.A1.T @ dZ2 / m\n",
    "        db2 = np.sum(dZ2, axis=0, keepdims=True) / m\n",
    "\n",
    "        dA1 = dZ2 @ self.W2.T\n",
    "        dZ1 = dA1 * self.relu_derivative(self.Z1)\n",
    "        dW1 = X.T @ dZ1 / m\n",
    "        db1 = np.sum(dZ1, axis=0, keepdims=True) / m\n",
    "\n",
    "        self.W2 -= lr * dW2\n",
    "        self.b2 -= lr * db2\n",
    "        self.W1 -= lr * dW1\n",
    "        self.b1 -= lr * db1\n",
    "\n",
    "    def train(self, X, y, epochs=20, lr=0.01):\n",
    "        losses = []\n",
    "        for epoch in range(epochs):\n",
    "            y_pred = self.forward(X)\n",
    "            loss = self.compute_loss(y, y_pred)\n",
    "            self.backward(X, y, y_pred, lr)\n",
    "            losses.append(loss)\n",
    "            print(f\"Epoch {epoch+1}/{epochs} - Loss: {loss:.4f}\")\n",
    "        return losses\n",
    "\n",
    "    def predict(self, X):\n",
    "        probs = self.forward(X)\n",
    "        return (probs >= 0.5).astype(int)\n"
   ]
  },
  {
   "cell_type": "code",
   "execution_count": 12,
   "id": "7ce5bd7d-d2dc-45c1-a59b-b548815c25c3",
   "metadata": {},
   "outputs": [],
   "source": [
    "# Step 7: Train the Model\n",
    "input_size = X_train_vec.shape[1]\n",
    "nn = SimpleNN(input_size=input_size, hidden_size=64, output_size=1)\n"
   ]
  },
  {
   "cell_type": "code",
   "execution_count": 14,
   "id": "90d95045-7bb7-4ce3-8e65-d1434f46867a",
   "metadata": {},
   "outputs": [
    {
     "name": "stdout",
     "output_type": "stream",
     "text": [
      "Epoch 1/20 - Loss: 0.6927\n",
      "Epoch 2/20 - Loss: 0.6927\n",
      "Epoch 3/20 - Loss: 0.6926\n",
      "Epoch 4/20 - Loss: 0.6926\n",
      "Epoch 5/20 - Loss: 0.6926\n",
      "Epoch 6/20 - Loss: 0.6925\n",
      "Epoch 7/20 - Loss: 0.6925\n",
      "Epoch 8/20 - Loss: 0.6924\n",
      "Epoch 9/20 - Loss: 0.6924\n",
      "Epoch 10/20 - Loss: 0.6924\n",
      "Epoch 11/20 - Loss: 0.6923\n",
      "Epoch 12/20 - Loss: 0.6923\n",
      "Epoch 13/20 - Loss: 0.6923\n",
      "Epoch 14/20 - Loss: 0.6922\n",
      "Epoch 15/20 - Loss: 0.6922\n",
      "Epoch 16/20 - Loss: 0.6921\n",
      "Epoch 17/20 - Loss: 0.6921\n",
      "Epoch 18/20 - Loss: 0.6921\n",
      "Epoch 19/20 - Loss: 0.6920\n",
      "Epoch 20/20 - Loss: 0.6920\n"
     ]
    }
   ],
   "source": [
    "# Reshape labels to (n,1)\n",
    "y_train_reshaped = y_train.values.reshape(-1, 1)\n",
    "y_test_reshaped = y_test.values.reshape(-1, 1)\n",
    "\n",
    "losses = nn.train(X_train_vec, y_train_reshaped, epochs=20, lr=0.1)\n"
   ]
  },
  {
   "cell_type": "code",
   "execution_count": 16,
   "id": "8999ceb9-f957-492a-b4a1-2af7dbba0718",
   "metadata": {},
   "outputs": [
    {
     "name": "stdout",
     "output_type": "stream",
     "text": [
      "\n",
      "Test Accuracy: 0.5426\n"
     ]
    }
   ],
   "source": [
    "# Step 8: Evaluate the Model\n",
    "y_pred = nn.predict(X_test_vec)\n",
    "accuracy = accuracy_score(y_test, y_pred)\n",
    "print(f\"\\nTest Accuracy: {accuracy:.4f}\")\n"
   ]
  },
  {
   "cell_type": "code",
   "execution_count": 18,
   "id": "9ad984c3-e573-430f-afd3-cd0be7db625e",
   "metadata": {},
   "outputs": [
    {
     "data": {
      "image/png": "[encoded data removed]",
      "text/plain": [
       "<Figure size 640x480 with 1 Axes>"
      ]
     },
     "metadata": {},
     "output_type": "display_data"
    }
   ],
   "source": [
    "# Step 9: Plot Loss Curve\n",
    "plt.plot(losses)\n",
    "plt.xlabel(\"Epochs\")\n",
    "plt.ylabel(\"Loss\")\n",
    "plt.title(\"Training Loss\")\n",
    "plt.grid(True)\n",
    "plt.show()"
   ]
  },
  {
   "cell_type": "code",
   "execution_count": null,
   "id": "1669bcb9-381e-4263-a10d-036035d8bd77",
   "metadata": {},
   "outputs": [],
   "source": []
  }
 ],
 "metadata": {
  "kernelspec": {
   "display_name": "Python 3 (ipykernel)",
   "language": "python",
   "name": "python3"
  },
  "language_info": {
   "codemirror_mode": {
    "name": "ipython",
    "version": 3
   },
   "file_extension": ".py",
   "mimetype": "text/x-python",
   "name": "python",
   "nbconvert_exporter": "python",
   "pygments_lexer": "ipython3",
   "version": "3.12.4"
  }
 },
 "nbformat": 4,
 "nbformat_minor": 5
}
